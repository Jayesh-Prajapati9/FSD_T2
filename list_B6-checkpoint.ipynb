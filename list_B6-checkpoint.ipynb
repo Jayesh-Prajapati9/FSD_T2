{
 "cells": [
  {
   "cell_type": "code",
   "execution_count": 11,
   "metadata": {},
   "outputs": [
    {
     "name": "stdout",
     "output_type": "stream",
     "text": [
      "2564517909568\n",
      "140707242977024\n",
      "140707242977024\n"
     ]
    }
   ],
   "source": [
    "L=[0,1,'vishal10']\n",
    "print(id(L))\n",
    "print(id(L[0]))\n",
    "print(id(0))"
   ]
  },
  {
   "cell_type": "code",
   "execution_count": 12,
   "metadata": {},
   "outputs": [
    {
     "name": "stdout",
     "output_type": "stream",
     "text": [
      "<class 'list'>\n"
     ]
    }
   ],
   "source": [
    "L=[]\n",
    "print(type(L))"
   ]
  },
  {
   "cell_type": "code",
   "execution_count": 13,
   "metadata": {},
   "outputs": [
    {
     "name": "stdout",
     "output_type": "stream",
     "text": [
      "<class 'list'>\n"
     ]
    }
   ],
   "source": [
    "L=list()\n",
    "print(type(L))"
   ]
  },
  {
   "cell_type": "code",
   "execution_count": 14,
   "metadata": {},
   "outputs": [
    {
     "name": "stdout",
     "output_type": "stream",
     "text": [
      "<class 'list'>\n"
     ]
    }
   ],
   "source": [
    "L=[[1,2],[3,4,5]]\n",
    "print(type(L))"
   ]
  },
  {
   "cell_type": "code",
   "execution_count": 18,
   "metadata": {},
   "outputs": [
    {
     "name": "stdout",
     "output_type": "stream",
     "text": [
      "['v', 'i', 's', 'h', 'a', 'l', '1', '0']\n"
     ]
    }
   ],
   "source": [
    "s='vishal10'\n",
    "print(list(s))"
   ]
  },
  {
   "cell_type": "code",
   "execution_count": 20,
   "metadata": {},
   "outputs": [
    {
     "data": {
      "text/plain": [
       "1"
      ]
     },
     "execution_count": 20,
     "metadata": {},
     "output_type": "execute_result"
    }
   ],
   "source": [
    "L=[1,2,3,4,'vishal10']\n",
    "print(L[0])\n",
    "print(L[-4])\n",
    "print(L[-1][1])"
   ]
  },
  {
   "cell_type": "code",
   "execution_count": 33,
   "metadata": {},
   "outputs": [
    {
     "name": "stdout",
     "output_type": "stream",
     "text": [
      "4\n",
      "4\n"
     ]
    }
   ],
   "source": [
    "L=[[1,2],[3,4,5],[6,7]]\n",
    "print(L[1][1])\n",
    "print(L[-2][-2])"
   ]
  },
  {
   "cell_type": "code",
   "execution_count": 35,
   "metadata": {},
   "outputs": [
    {
     "name": "stdout",
     "output_type": "stream",
     "text": [
      "11\n",
      "11\n"
     ]
    }
   ],
   "source": [
    "L=[[1,2],[3,4]],[[5,6,7]],[[10,11,12],[13,14,14]]\n",
    "print(L[2][0][1])\n",
    "print(L[-1][-2][-2])"
   ]
  },
  {
   "cell_type": "code",
   "execution_count": 51,
   "metadata": {},
   "outputs": [
    {
     "name": "stdout",
     "output_type": "stream",
     "text": [
      "[2, 3, 4]\n",
      "[2, 4]\n",
      "['vishal10', 4, 3, 2, 1]\n",
      "[1, 2, 3, 4, 'vishal10']\n",
      "[2]\n",
      "[3]\n"
     ]
    }
   ],
   "source": [
    "L=[1,2,3,4,'vishal10']\n",
    "print(L[1:4])\n",
    "print(L[1:6:2])\n",
    "print(L[ ::-1])\n",
    "print(L[0:5:1])\n",
    "print(L[1:2])\n",
    "print(L[-3:-2])"
   ]
  },
  {
   "cell_type": "code",
   "execution_count": 45,
   "metadata": {},
   "outputs": [
    {
     "data": {
      "text/plain": [
       "[[1, 2], [3, 4]]"
      ]
     },
     "execution_count": 45,
     "metadata": {},
     "output_type": "execute_result"
    }
   ],
   "source": [
    "L=[[1,2],[3,4],[5,6]]\n",
    "print(L[0:2])\n",
    "print(L[-3:-1])"
   ]
  },
  {
   "cell_type": "code",
   "execution_count": 55,
   "metadata": {},
   "outputs": [
    {
     "name": "stdout",
     "output_type": "stream",
     "text": [
      "V\n"
     ]
    }
   ],
   "source": [
    "L=[1,2,3,4,'vishal']\n",
    "L[4]=L[4][0].upper()\n",
    "print(L[4])"
   ]
  },
  {
   "cell_type": "code",
   "execution_count": 59,
   "metadata": {},
   "outputs": [
    {
     "name": "stdout",
     "output_type": "stream",
     "text": [
      "[100, 200, 300, 2, 3, 4, 'vishal']\n"
     ]
    }
   ],
   "source": [
    "L=[1,2,3,4,'vishal']\n",
    "L[0:1]=[100,200,300]\n",
    "print(L)"
   ]
  },
  {
   "cell_type": "code",
   "execution_count": 69,
   "metadata": {},
   "outputs": [
    {
     "name": "stdout",
     "output_type": "stream",
     "text": [
      "[1, 2, 3, 4, 'vishal', [4, 5, 1, 2, {2, 44}, {4: 5, 1: 2}]]\n"
     ]
    }
   ],
   "source": [
    "L=[1,2,3,4,'vishal']\n",
    "L.append([4,5,1,2,{2,44},{4:5,1:2}])\n",
    "print(L)\n"
   ]
  },
  {
   "cell_type": "code",
   "execution_count": 73,
   "metadata": {},
   "outputs": [
    {
     "name": "stdout",
     "output_type": "stream",
     "text": [
      "[1, 2, 'vishal10', 3, 4, 'vishal']\n"
     ]
    }
   ],
   "source": [
    "L=[1,2,3,4,'vishal']\n",
    "L.insert(2,'vishal10')\n",
    "print(L)"
   ]
  },
  {
   "cell_type": "code",
   "execution_count": 92,
   "metadata": {},
   "outputs": [
    {
     "name": "stdout",
     "output_type": "stream",
     "text": [
      "[1, 2, 3, 4, 'vishal', 1, 2, 3]\n"
     ]
    }
   ],
   "source": [
    "L=[1,2,3,4,'vishal']\n",
    "L.extend([1,2,3])\n",
    "##L.extend({'A':4,'B':2})\n",
    "print(L)"
   ]
  },
  {
   "cell_type": "code",
   "execution_count": 81,
   "metadata": {},
   "outputs": [
    {
     "name": "stdout",
     "output_type": "stream",
     "text": [
      "[1, 'vishal']\n"
     ]
    }
   ],
   "source": [
    "L=[1,2,3,4,'vishal']\n",
    "del L[1:4]\n",
    "print(L)"
   ]
  },
  {
   "cell_type": "code",
   "execution_count": 86,
   "metadata": {},
   "outputs": [
    {
     "name": "stdout",
     "output_type": "stream",
     "text": [
      "[1, 2, 4, 'vishal']\n"
     ]
    }
   ],
   "source": [
    "L=[1,2,3,4,'vishal']\n",
    "L.pop(2)\n",
    "print(L)"
   ]
  },
  {
   "cell_type": "code",
   "execution_count": 87,
   "metadata": {},
   "outputs": [
    {
     "name": "stdout",
     "output_type": "stream",
     "text": [
      "[]\n"
     ]
    }
   ],
   "source": [
    "L=[1,2,3,4,'vishal']\n",
    "L.clear()\n",
    "print(L)"
   ]
  },
  {
   "cell_type": "code",
   "execution_count": 89,
   "metadata": {},
   "outputs": [
    {
     "name": "stdout",
     "output_type": "stream",
     "text": [
      "[2, 3, 4, 'vishal']\n"
     ]
    }
   ],
   "source": [
    "L=[1,2,3,4,'vishal']\n",
    "L.remove(1)\n",
    "print(L)"
   ]
  },
  {
   "cell_type": "code",
   "execution_count": 93,
   "metadata": {},
   "outputs": [
    {
     "name": "stdout",
     "output_type": "stream",
     "text": [
      "[1, 2, 3, 1, 2, 3, 4, 5]\n",
      "[1, 2, 3, 1, 2, 3, 1, 2, 3, 1, 2, 3, 1, 2, 3, 1, 2, 3, 1, 2, 3, 1, 2, 3, 1, 2, 3, 1, 2, 3]\n"
     ]
    }
   ],
   "source": [
    "print([1,2,3]+[1,2,3]+[4,5])\n",
    "print([1,2,3]*10)"
   ]
  },
  {
   "cell_type": "code",
   "execution_count": 96,
   "metadata": {},
   "outputs": [
    {
     "name": "stdout",
     "output_type": "stream",
     "text": [
      "1\n",
      "2\n",
      "3\n",
      "4\n",
      "vishal\n",
      "1\n",
      "2\n",
      "3\n",
      "4\n",
      "vishal\n"
     ]
    }
   ],
   "source": [
    "L=[1,2,3,4,'vishal']\n",
    "for i in L:\n",
    "    print(i)\n",
    "for i in range(0,len(L)):\n",
    "    print(L[i])"
   ]
  },
  {
   "cell_type": "code",
   "execution_count": 100,
   "metadata": {},
   "outputs": [
    {
     "name": "stdout",
     "output_type": "stream",
     "text": [
      "4\n",
      "4\n",
      "1\n",
      "10\n",
      "[1, 2, 3, 4]\n",
      "[4, 3, 2, 1]\n"
     ]
    }
   ],
   "source": [
    "L=[1,2,3,4]\n",
    "print(len(L))\n",
    "print(max(L))\n",
    "print(min(L))\n",
    "print(sum(L))\n",
    "print(sorted(L))\n",
    "print(sorted(L,reverse=True))"
   ]
  },
  {
   "cell_type": "code",
   "execution_count": 115,
   "metadata": {},
   "outputs": [
    {
     "name": "stdout",
     "output_type": "stream",
     "text": [
      "enter list:[5,2,4,7,1,3,8,3,6]\n",
      "[2, 1, 2, 3, 1, 2, 3, 1, 2]\n",
      "17\n"
     ]
    }
   ],
   "source": [
    "##CANDY PRGM\n",
    "L=eval(input(\"enter list:\"))\n",
    "D=[1]*len(L)\n",
    "for i in range(1,len(L)):\n",
    "    if L[i]>L[i-1]:\n",
    "        D[i]=D[i-1]+1\n",
    "for i in range(len(L)-2,-1,-1):\n",
    "    if L[i]>L[i+1]:\n",
    "        D[i]=max([D[i],D[i+1]+1])\n",
    "print(D)\n",
    "print(sum(D))"
   ]
  },
  {
   "cell_type": "code",
   "execution_count": 7,
   "metadata": {},
   "outputs": [
    {
     "name": "stdout",
     "output_type": "stream",
     "text": [
      "[5, 3, 2, 1, 9, 7]\n"
     ]
    }
   ],
   "source": [
    "L=[5,3,2,1,9,7]\n",
    "sorted(L)\n",
    "print(L)"
   ]
  },
  {
   "cell_type": "code",
   "execution_count": 8,
   "metadata": {},
   "outputs": [
    {
     "name": "stdout",
     "output_type": "stream",
     "text": [
      "None\n"
     ]
    }
   ],
   "source": [
    "L=[5,3,2,1,9,7]\n",
    "L=L.sort()\n",
    "print(L)"
   ]
  },
  {
   "cell_type": "code",
   "execution_count": 9,
   "metadata": {},
   "outputs": [
    {
     "name": "stdout",
     "output_type": "stream",
     "text": [
      "['vishal10', 'def', 'bc', 'a']\n"
     ]
    }
   ],
   "source": [
    "L=['a','bc','def','vishal10']\n",
    "L.sort(reverse=True)\n",
    "print(L)"
   ]
  },
  {
   "cell_type": "code",
   "execution_count": 13,
   "metadata": {},
   "outputs": [
    {
     "name": "stdout",
     "output_type": "stream",
     "text": [
      "['vishal10', 'def', 'bc', 'a']\n"
     ]
    }
   ],
   "source": [
    "L=['a','bc','def','vishal10']\n",
    "L.sort(reverse=True,key=len)\n",
    "print(L)"
   ]
  },
  {
   "cell_type": "code",
   "execution_count": 18,
   "metadata": {},
   "outputs": [
    {
     "name": "stdout",
     "output_type": "stream",
     "text": [
      "['a', 'bc', 'def', 'vishal10']\n"
     ]
    }
   ],
   "source": [
    "L=['a','bc','def','vishal10']\n",
    "sorted(L,reverse=True,key=len)\n",
    "print(L)"
   ]
  },
  {
   "cell_type": "code",
   "execution_count": 22,
   "metadata": {},
   "outputs": [
    {
     "data": {
      "text/plain": [
       "2"
      ]
     },
     "execution_count": 22,
     "metadata": {},
     "output_type": "execute_result"
    }
   ],
   "source": [
    "L=[5,[3],2,1,9,7,1,2,3]\n",
    "L.count(1)\n",
    "##L.count(1,5,len(L)) error avse becoz list-count aavi rite na lakhaay\n"
   ]
  },
  {
   "cell_type": "code",
   "execution_count": 27,
   "metadata": {},
   "outputs": [
    {
     "data": {
      "text/plain": [
       "8"
      ]
     },
     "execution_count": 27,
     "metadata": {},
     "output_type": "execute_result"
    }
   ],
   "source": [
    "L=[5,3,2,1,9,7,1,2,3]\n",
    "L.index(3,3,len(L))"
   ]
  },
  {
   "cell_type": "code",
   "execution_count": 28,
   "metadata": {},
   "outputs": [
    {
     "name": "stdout",
     "output_type": "stream",
     "text": [
      "[5, 2, 3, 4]\n",
      "[5, 2, 3, 4]\n"
     ]
    }
   ],
   "source": [
    "L=[1,2,3,4]\n",
    "L1=L\n",
    "L[0]=5\n",
    "print(L1)\n",
    "print(L)"
   ]
  },
  {
   "cell_type": "code",
   "execution_count": 29,
   "metadata": {},
   "outputs": [
    {
     "name": "stdout",
     "output_type": "stream",
     "text": [
      "[1, 2, 3, 4]\n",
      "[5, 2, 3, 4]\n"
     ]
    }
   ],
   "source": [
    "L=[1,2,3,4]\n",
    "L1=L.copy()\n",
    "L[0]=5\n",
    "print(L1)\n",
    "print(L)"
   ]
  },
  {
   "cell_type": "code",
   "execution_count": 35,
   "metadata": {},
   "outputs": [
    {
     "name": "stdout",
     "output_type": "stream",
     "text": [
      "<enumerate object at 0x00000212EE6BDD40>\n"
     ]
    }
   ],
   "source": [
    "L=[1,2,3,4]\n",
    "s='vishal10'\n",
    "print(enumerate(s))"
   ]
  },
  {
   "cell_type": "code",
   "execution_count": null,
   "metadata": {},
   "outputs": [],
   "source": [
    "L=[1,2,3,4]\n",
    "s='vishal10'\n",
    "print(list(s,start=11))"
   ]
  },
  {
   "cell_type": "code",
   "execution_count": 4,
   "metadata": {},
   "outputs": [
    {
     "name": "stdout",
     "output_type": "stream",
     "text": [
      "[1,2,3,4]\n",
      "list not balanced\n"
     ]
    }
   ],
   "source": [
    "##PROGRAM\n",
    "L=eval(input())\n",
    "count=0\n",
    "if sum(L[ ::2])==sum(L[1::2]):\n",
    "       print('balance')\n",
    "for i in range(0,len(L)):\n",
    "       L1=L[ :i]+L[i+1: ]\n",
    "       if sum(L1[ ::2])==sum(L1[1::2]):\n",
    "           print(i)\n",
    "           ##print(count) \n",
    "           count+=1\n",
    "if count==0:\n",
    "       print(\"list not balanced\")"
   ]
  },
  {
   "cell_type": "code",
   "execution_count": 5,
   "metadata": {},
   "outputs": [
    {
     "name": "stdout",
     "output_type": "stream",
     "text": [
      "<class 'tuple'>\n",
      "<class 'tuple'>\n"
     ]
    }
   ],
   "source": [
    "t=tuple()\n",
    "print(type(t))\n",
    "t=()\n",
    "print(type(t))"
   ]
  },
  {
   "cell_type": "code",
   "execution_count": 7,
   "metadata": {},
   "outputs": [
    {
     "name": "stdout",
     "output_type": "stream",
     "text": [
      "(5,)\n"
     ]
    }
   ],
   "source": [
    "t=(5,)\n",
    "print(tuple(t))"
   ]
  },
  {
   "cell_type": "code",
   "execution_count": 10,
   "metadata": {},
   "outputs": [
    {
     "name": "stdout",
     "output_type": "stream",
     "text": [
      "(1, 2, 3, 'vishal10', 5.5, {1, 2}, [1, 2], {'A': 1})\n"
     ]
    }
   ],
   "source": [
    "t=(1,2,3,'vishal10',5.5,{1,2},[1,2],{'A':1})\n",
    "print(t)"
   ]
  },
  {
   "cell_type": "code",
   "execution_count": 11,
   "metadata": {},
   "outputs": [
    {
     "data": {
      "text/plain": [
       "4"
      ]
     },
     "execution_count": 11,
     "metadata": {},
     "output_type": "execute_result"
    }
   ],
   "source": [
    "t=(1,2,3,4,5)\n",
    "t[3] or t[-2]"
   ]
  },
  {
   "cell_type": "code",
   "execution_count": 28,
   "metadata": {},
   "outputs": [
    {
     "name": "stdout",
     "output_type": "stream",
     "text": [
      "i\n",
      "0 3 [1, 2]\n",
      "(7,)\n"
     ]
    },
    {
     "ename": "TypeError",
     "evalue": "can't multiply sequence by non-int of type 'tuple'",
     "output_type": "error",
     "traceback": [
      "\u001b[1;31m---------------------------------------------------------------------------\u001b[0m",
      "\u001b[1;31mTypeError\u001b[0m                                 Traceback (most recent call last)",
      "\u001b[1;32m<ipython-input-28-027fad7fbecd>\u001b[0m in \u001b[0;36m<module>\u001b[1;34m\u001b[0m\n\u001b[0;32m      5\u001b[0m \u001b[1;31m##print(del t)\u001b[0m\u001b[1;33m\u001b[0m\u001b[1;33m\u001b[0m\u001b[1;33m\u001b[0m\u001b[0m\n\u001b[0;32m      6\u001b[0m \u001b[0mprint\u001b[0m\u001b[1;33m(\u001b[0m\u001b[1;33m(\u001b[0m\u001b[1;33m)\u001b[0m\u001b[1;33m+\u001b[0m\u001b[1;33m(\u001b[0m\u001b[1;36m7\u001b[0m\u001b[1;33m,\u001b[0m\u001b[1;33m)\u001b[0m\u001b[1;33m)\u001b[0m\u001b[1;33m\u001b[0m\u001b[1;33m\u001b[0m\u001b[0m\n\u001b[1;32m----> 7\u001b[1;33m \u001b[0mprint\u001b[0m\u001b[1;33m(\u001b[0m\u001b[1;33m(\u001b[0m\u001b[1;36m1\u001b[0m\u001b[1;33m,\u001b[0m\u001b[1;36m2\u001b[0m\u001b[1;33m,\u001b[0m\u001b[1;33m)\u001b[0m\u001b[1;33m*\u001b[0m\u001b[1;33m(\u001b[0m\u001b[1;36m10\u001b[0m\u001b[1;33m,\u001b[0m\u001b[1;33m)\u001b[0m\u001b[1;33m)\u001b[0m\u001b[1;33m\u001b[0m\u001b[1;33m\u001b[0m\u001b[0m\n\u001b[0m",
      "\u001b[1;31mTypeError\u001b[0m: can't multiply sequence by non-int of type 'tuple'"
     ]
    }
   ],
   "source": [
    "t=(1,2,3,4,5,'vishal')\n",
    "print(t[5][1])\n",
    "print(0,3,[1,2])\n",
    "##print[2][0]=5## tupple is imutable \n",
    "##print(del t)\n",
    "print(()+(7,))\n",
    "print((1,2,)*(10,))"
   ]
  },
  {
   "cell_type": "code",
   "execution_count": 34,
   "metadata": {},
   "outputs": [
    {
     "name": "stdout",
     "output_type": "stream",
     "text": [
      "1\n",
      "2\n",
      "3\n",
      "4\n",
      "5\n",
      "vishal\n",
      "1\n",
      "2\n",
      "3\n",
      "4\n",
      "5\n",
      "vishal\n",
      "0 1\n",
      "1 2\n",
      "2 3\n",
      "3 4\n",
      "4 5\n",
      "5 vishal\n"
     ]
    }
   ],
   "source": [
    "t=[1,2,3,4,5,'vishal']\n",
    "for i in t:\n",
    "    print(i)\n",
    "for i in range(0,len(t)):\n",
    "    print(t[i])\n",
    "for i,j in enumerate(t):\n",
    "    print(i,j)"
   ]
  },
  {
   "cell_type": "code",
   "execution_count": 38,
   "metadata": {},
   "outputs": [
    {
     "ename": "TypeError",
     "evalue": "'>' not supported between instances of 'str' and 'int'",
     "output_type": "error",
     "traceback": [
      "\u001b[1;31m---------------------------------------------------------------------------\u001b[0m",
      "\u001b[1;31mTypeError\u001b[0m                                 Traceback (most recent call last)",
      "\u001b[1;32m<ipython-input-38-b8659b9f6b88>\u001b[0m in \u001b[0;36m<module>\u001b[1;34m\u001b[0m\n\u001b[0;32m      1\u001b[0m \u001b[1;33m(\u001b[0m\u001b[1;36m1\u001b[0m\u001b[1;33m,\u001b[0m\u001b[1;36m2\u001b[0m\u001b[1;33m,\u001b[0m\u001b[1;36m3\u001b[0m\u001b[1;33m)\u001b[0m\u001b[1;33m>\u001b[0m\u001b[1;33m(\u001b[0m\u001b[1;36m1\u001b[0m\u001b[1;33m,\u001b[0m\u001b[1;36m4\u001b[0m\u001b[1;33m,\u001b[0m\u001b[1;36m5\u001b[0m\u001b[1;33m)\u001b[0m\u001b[1;33m\u001b[0m\u001b[1;33m\u001b[0m\u001b[0m\n\u001b[1;32m----> 2\u001b[1;33m \u001b[1;33m(\u001b[0m\u001b[1;34m'a'\u001b[0m\u001b[1;33m,\u001b[0m\u001b[1;34m'v'\u001b[0m\u001b[1;33m)\u001b[0m\u001b[1;33m>\u001b[0m\u001b[1;33m(\u001b[0m\u001b[1;34m'a'\u001b[0m\u001b[1;33m,\u001b[0m\u001b[1;36m1\u001b[0m\u001b[1;33m)\u001b[0m\u001b[1;33m\u001b[0m\u001b[1;33m\u001b[0m\u001b[0m\n\u001b[0m",
      "\u001b[1;31mTypeError\u001b[0m: '>' not supported between instances of 'str' and 'int'"
     ]
    }
   ],
   "source": [
    "(1,2,3)>(1,4,5)\n",
    "('a','v')>('a',1) ##Imp for MCQ it will come error as string and int cannot be compared"
   ]
  },
  {
   "cell_type": "code",
   "execution_count": 41,
   "metadata": {},
   "outputs": [
    {
     "name": "stdout",
     "output_type": "stream",
     "text": [
      "6\n"
     ]
    },
    {
     "ename": "TypeError",
     "evalue": "'>' not supported between instances of 'str' and 'int'",
     "output_type": "error",
     "traceback": [
      "\u001b[1;31m---------------------------------------------------------------------------\u001b[0m",
      "\u001b[1;31mTypeError\u001b[0m                                 Traceback (most recent call last)",
      "\u001b[1;32m<ipython-input-41-cf7292b5ee09>\u001b[0m in \u001b[0;36m<module>\u001b[1;34m\u001b[0m\n\u001b[0;32m      1\u001b[0m \u001b[0mt\u001b[0m\u001b[1;33m=\u001b[0m\u001b[1;33m(\u001b[0m\u001b[1;36m1\u001b[0m\u001b[1;33m,\u001b[0m\u001b[1;36m3\u001b[0m\u001b[1;33m,\u001b[0m\u001b[1;36m5\u001b[0m\u001b[1;33m,\u001b[0m\u001b[1;36m7\u001b[0m\u001b[1;33m,\u001b[0m\u001b[1;36m2\u001b[0m\u001b[1;33m,\u001b[0m\u001b[1;34m'4'\u001b[0m\u001b[1;33m)\u001b[0m\u001b[1;33m\u001b[0m\u001b[1;33m\u001b[0m\u001b[0m\n\u001b[0;32m      2\u001b[0m \u001b[0mprint\u001b[0m\u001b[1;33m(\u001b[0m\u001b[0mlen\u001b[0m\u001b[1;33m(\u001b[0m\u001b[0mt\u001b[0m\u001b[1;33m)\u001b[0m\u001b[1;33m)\u001b[0m\u001b[1;33m\u001b[0m\u001b[1;33m\u001b[0m\u001b[0m\n\u001b[1;32m----> 3\u001b[1;33m \u001b[0mprint\u001b[0m\u001b[1;33m(\u001b[0m\u001b[0mmax\u001b[0m\u001b[1;33m(\u001b[0m\u001b[0mt\u001b[0m\u001b[1;33m)\u001b[0m\u001b[1;33m)\u001b[0m\u001b[1;33m\u001b[0m\u001b[1;33m\u001b[0m\u001b[0m\n\u001b[0m\u001b[0;32m      4\u001b[0m \u001b[0mprint\u001b[0m\u001b[1;33m(\u001b[0m\u001b[0mmin\u001b[0m\u001b[1;33m(\u001b[0m\u001b[0mt\u001b[0m\u001b[1;33m)\u001b[0m\u001b[1;33m)\u001b[0m\u001b[1;33m\u001b[0m\u001b[1;33m\u001b[0m\u001b[0m\n\u001b[0;32m      5\u001b[0m \u001b[0mprint\u001b[0m\u001b[1;33m(\u001b[0m\u001b[0msum\u001b[0m\u001b[1;33m(\u001b[0m\u001b[0mt\u001b[0m\u001b[1;33m)\u001b[0m\u001b[1;33m)\u001b[0m\u001b[1;33m\u001b[0m\u001b[1;33m\u001b[0m\u001b[0m\n",
      "\u001b[1;31mTypeError\u001b[0m: '>' not supported between instances of 'str' and 'int'"
     ]
    }
   ],
   "source": [
    "t=(1,3,5,7,2,4)\n",
    "print(len(t))\n",
    "print(max(t))\n",
    "print(min(t))\n",
    "print(sum(t))\n",
    "print(sorted(t))\n",
    "print(sorted(t,reverse=True))"
   ]
  },
  {
   "cell_type": "code",
   "execution_count": 45,
   "metadata": {},
   "outputs": [
    {
     "name": "stdout",
     "output_type": "stream",
     "text": [
      "3\n",
      "0\n",
      "6\n"
     ]
    }
   ],
   "source": [
    "t=(1,3,5,7,2,4,1,2,3,1)\n",
    "print(t.count(1))\n",
    "##print(t.count(1,3,len(t)))\n",
    "print(t.index(1))\n",
    "print(t.index(1,2,len(t)))"
   ]
  },
  {
   "cell_type": "code",
   "execution_count": 48,
   "metadata": {},
   "outputs": [
    {
     "name": "stdout",
     "output_type": "stream",
     "text": [
      "1,2,3,4,5,6\n",
      "5 1\n",
      "6 2\n"
     ]
    }
   ],
   "source": [
    "##using tupple \n",
    "##we need max and min even no \n",
    "##We need max and min odd no \n",
    "t=eval(input())\n",
    "even=()\n",
    "odd=()\n",
    "for i in t:\n",
    "    if i%2==0:\n",
    "        even+=(i,)\n",
    "    else:\n",
    "        odd+=(i,)\n",
    "print(max(odd),min(odd))\n",
    "print(max(even),min(even))"
   ]
  },
  {
   "cell_type": "code",
   "execution_count": 5,
   "metadata": {},
   "outputs": [
    {
     "name": "stdout",
     "output_type": "stream",
     "text": [
      "enter list:[0,1,0,2,1,0,1,3,2,1,2,1]\n",
      "6\n"
     ]
    }
   ],
   "source": [
    "##Water filling PRGM ##Tapping Water ##IMPORTANT PROGRAM FOR OFFLINE EXAM \n",
    "L=eval(input(\"enter list:\"))\n",
    "L_max=[0]*len(L)\n",
    "R_max=[0]*len(L)\n",
    "L_max[0]=L[0]\n",
    "for i in range(1,len(L)):\n",
    "    L_max[i]=max(L[i],L_max[i-1])\n",
    "R_max[-1]=L[-1]\n",
    "for i in range(len(L)-2,-1,-1):\n",
    "    R_max[i]=max(L[i],R_max[i+1])\n",
    "ans=0\n",
    "for i in range(0,len(L)):\n",
    "    ans+=min((L_max[i],R_max[i]))-L[i]\n",
    "print(ans)"
   ]
  },
  {
   "cell_type": "code",
   "execution_count": 6,
   "metadata": {},
   "outputs": [
    {
     "name": "stdout",
     "output_type": "stream",
     "text": [
      "<class 'dict'>\n"
     ]
    }
   ],
   "source": [
    "d={}\n",
    "print(type(d))"
   ]
  },
  {
   "cell_type": "code",
   "execution_count": 7,
   "metadata": {},
   "outputs": [
    {
     "name": "stdout",
     "output_type": "stream",
     "text": [
      "<class 'dict'>\n"
     ]
    }
   ],
   "source": [
    "d=dict()\n",
    "print(type(d))"
   ]
  },
  {
   "cell_type": "code",
   "execution_count": 30,
   "metadata": {},
   "outputs": [
    {
     "name": "stdout",
     "output_type": "stream",
     "text": [
      "10\n",
      "{'python': 10, 'FSD': 8, 'DE': 9, 'PS': 8}\n",
      "{'python': 10, 'FSD': 9, 'DE': 9, 'PS': 8}\n",
      "{'python': 10, 'FSD': [9, 10], 'DE': 9, 'PS': 8}\n",
      "{'python': 10, 'FSD': [9, 10], 'DE': 9, 'PS': 8, 'ETC': 7}\n",
      "{'python': 10, 'FSD': [9, 10], 'DE': 9, 'PS': 8, 'ETC': 7, 'A': 10, 'VHA': 10}\n",
      "{'python': 10, 'FSD': [9, 10], 'DE': 10, 'PS': 8, 'ETC': 7, 'A': 10, 'VHA': 10}\n",
      "{'python': 10, 'FSD': [9, 10], 'PS': 8, 'ETC': 7, 'A': 10, 'VHA': 10}\n",
      "{'python': 10, 'PS': 8, 'ETC': 7, 'A': 10, 'VHA': 10}\n",
      "{'python': 10, 'PS': 8, 'ETC': 7, 'A': 10}\n"
     ]
    },
    {
     "data": {
      "text/plain": [
       "<function dict.clear>"
      ]
     },
     "execution_count": 30,
     "metadata": {},
     "output_type": "execute_result"
    }
   ],
   "source": [
    "d={'python':10,'FSD':8,'DE':9,'PS':7,'PS':8}\n",
    "print(d['python'])\n",
    "print(d)\n",
    "\n",
    "d['FSD']=9\n",
    "print(d)\n",
    "\n",
    "d['FSD']=[9,10]\n",
    "print(d)\n",
    "\n",
    "d['ETC']=7\n",
    "print(d)\n",
    "\n",
    "d.update({'A':10,'VHA':10})\n",
    "print(d)\n",
    "\n",
    "d.update({'DE':10,'VHA':10})\n",
    "print(d)\n",
    "\n",
    "del d['DE']\n",
    "print(d)\n",
    " \n",
    "d.pop('FSD')\n",
    "print(d)\n",
    "\n",
    "d.popitem()\n",
    "print(d)\n",
    "\n",
    "d.clear\n",
    "\n"
   ]
  },
  {
   "cell_type": "code",
   "execution_count": 16,
   "metadata": {},
   "outputs": [
    {
     "ename": "TypeError",
     "evalue": "unhashable type: 'list'",
     "output_type": "error",
     "traceback": [
      "\u001b[1;31m---------------------------------------------------------------------------\u001b[0m",
      "\u001b[1;31mTypeError\u001b[0m                                 Traceback (most recent call last)",
      "\u001b[1;32m<ipython-input-16-3cd94d3b0b9a>\u001b[0m in \u001b[0;36m<module>\u001b[1;34m\u001b[0m\n\u001b[1;32m----> 1\u001b[1;33m \u001b[0md\u001b[0m\u001b[1;33m=\u001b[0m\u001b[1;33m{\u001b[0m\u001b[1;34m'python'\u001b[0m\u001b[1;33m:\u001b[0m\u001b[1;36m10\u001b[0m\u001b[1;33m,\u001b[0m\u001b[1;33m[\u001b[0m\u001b[1;34m'FSD'\u001b[0m\u001b[1;33m]\u001b[0m\u001b[1;33m:\u001b[0m\u001b[1;36m8\u001b[0m\u001b[1;33m,\u001b[0m\u001b[1;34m'DE'\u001b[0m\u001b[1;33m:\u001b[0m\u001b[1;36m9\u001b[0m\u001b[1;33m,\u001b[0m\u001b[1;34m'PS'\u001b[0m\u001b[1;33m:\u001b[0m\u001b[1;36m7\u001b[0m\u001b[1;33m,\u001b[0m\u001b[1;34m'PS'\u001b[0m\u001b[1;33m:\u001b[0m\u001b[1;36m8\u001b[0m\u001b[1;33m}\u001b[0m\u001b[1;33m\u001b[0m\u001b[1;33m\u001b[0m\u001b[0m\n\u001b[0m\u001b[0;32m      2\u001b[0m \u001b[0mprint\u001b[0m\u001b[1;33m(\u001b[0m\u001b[0md\u001b[0m\u001b[1;33m)\u001b[0m\u001b[1;33m\u001b[0m\u001b[1;33m\u001b[0m\u001b[0m\n",
      "\u001b[1;31mTypeError\u001b[0m: unhashable type: 'list'"
     ]
    }
   ],
   "source": [
    "d={'python':10,['FSD']:8,'DE':9,'PS':7,'PS':8}\n",
    "print(d)"
   ]
  },
  {
   "cell_type": "code",
   "execution_count": 45,
   "metadata": {},
   "outputs": [
    {
     "name": "stdout",
     "output_type": "stream",
     "text": [
      "4\n",
      "DE\n",
      "python\n",
      "['DE', 'FSD', 'PS', 'python']\n",
      "['python', 'PS', 'FSD', 'DE']\n",
      "False\n",
      "True\n",
      "False\n"
     ]
    }
   ],
   "source": [
    "d={'python':10,'FSD':8,'DE':9,'PS':8}\n",
    "print(len(d))\n",
    "print(min(d))\n",
    "print(max(d))\n",
    "print(sorted(d))\n",
    "print(sorted(d,reverse=True))\n",
    "print(10 in d)\n",
    "print('python' in d)\n",
    "print((1,2) in d)"
   ]
  },
  {
   "cell_type": "code",
   "execution_count": 49,
   "metadata": {},
   "outputs": [
    {
     "name": "stdout",
     "output_type": "stream",
     "text": [
      "python\n",
      "FSD\n",
      "DE\n",
      "PS\n",
      "python 10\n",
      "FSD 8\n",
      "DE 9\n",
      "PS 8\n",
      "dict_keys(['python', 'FSD', 'DE', 'PS'])\n",
      "<class 'dict_keys'>\n",
      "dict_values([10, 8, 9, 8])\n",
      "dict_items([('python', 10), ('FSD', 8), ('DE', 9), ('PS', 8)])\n",
      "python 10\n",
      "FSD 8\n",
      "DE 9\n",
      "PS 8\n"
     ]
    }
   ],
   "source": [
    "d={'python':10,'FSD':8,'DE':9,'PS':8}\n",
    "for i in d:\n",
    "    print(i)\n",
    "for i in d:\n",
    "    print(i,d[i])\n",
    "print(d.keys())\n",
    "print(type(d.keys()))\n",
    "print(d.values())\n",
    "print(d.items())\n",
    "for i,j in d.items():\n",
    "    print(i,j)"
   ]
  },
  {
   "cell_type": "code",
   "execution_count": 57,
   "metadata": {},
   "outputs": [
    {
     "name": "stdout",
     "output_type": "stream",
     "text": [
      "{'A': 1, 'B': 2, 'C': 3, 'D': 35}\n"
     ]
    }
   ],
   "source": [
    "d={'A':1,'B':2,'C':3}\n",
    "d.setdefault('D',35)\n",
    "print(d)"
   ]
  },
  {
   "cell_type": "code",
   "execution_count": 67,
   "metadata": {},
   "outputs": [
    {
     "name": "stdout",
     "output_type": "stream",
     "text": [
      "{1: 'v', 2: 'v', 3: 'v'}\n"
     ]
    },
    {
     "data": {
      "text/plain": [
       "{'v': 'v',\n",
       " 'i': 'v',\n",
       " 's': 'v',\n",
       " 'h': 'v',\n",
       " 'a': 'v',\n",
       " 'l': 'v',\n",
       " '1': 'v',\n",
       " '0': 'v'}"
      ]
     },
     "execution_count": 67,
     "metadata": {},
     "output_type": "execute_result"
    }
   ],
   "source": [
    "X={}\n",
    "print(X.fromkeys((1,2,3),'v'))\n",
    "X.fromkeys('vishal10','v')\n"
   ]
  },
  {
   "cell_type": "code",
   "execution_count": 71,
   "metadata": {},
   "outputs": [
    {
     "name": "stdout",
     "output_type": "stream",
     "text": [
      "None\n",
      "5\n",
      "{'A': 1, 'B': 2, 'C': 3, 'E': 5}\n"
     ]
    }
   ],
   "source": [
    "##IMPORTANT\n",
    "d={'A': 1, 'B': 2, 'C': 3}\n",
    "print(d.get('E'))\n",
    "print(d.get('E',5))\n",
    "d['E']=d.get('E',5)\n",
    "print(d)"
   ]
  },
  {
   "cell_type": "code",
   "execution_count": 2,
   "metadata": {},
   "outputs": [
    {
     "name": "stdout",
     "output_type": "stream",
     "text": [
      "vishal is best,B6 is best in python,b6 is also best in DE\n",
      "{'v': 1, 'i': 5, 'b': 3, 'p': 1, 'a': 1, 'D': 1}\n"
     ]
    }
   ],
   "source": [
    "s=input()\n",
    "d={}\n",
    "for i in s.split():\n",
    "    d[i[0]]=d.get(i[0],0)+1\n",
    "print(d)"
   ]
  },
  {
   "cell_type": "code",
   "execution_count": 5,
   "metadata": {},
   "outputs": [
    {
     "name": "stdout",
     "output_type": "stream",
     "text": [
      "1,2,3,4,5\n",
      "{'1': ['1,2,3,4,5']}\n"
     ]
    }
   ],
   "source": [
    "##Important prgrm\n",
    "s=input()\n",
    "d={}\n",
    "for i in s.split():\n",
    "    d[i[0]]=d.get(i[0],[])+[i]\n",
    "print(d)"
   ]
  },
  {
   "cell_type": "code",
   "execution_count": 4,
   "metadata": {},
   "outputs": [
    {
     "name": "stdout",
     "output_type": "stream",
     "text": [
      "['hello','hi','I','Children']\n",
      "['I', 'hi', 'hello', 'Children']\n"
     ]
    }
   ],
   "source": [
    "##String ni length wise decreasing order sort karvanu\n",
    "##IMPORTANT PRGRM\n",
    "L=eval(input())\n",
    "L.sort(key=len)\n",
    "print(L)"
   ]
  },
  {
   "cell_type": "code",
   "execution_count": 6,
   "metadata": {},
   "outputs": [
    {
     "name": "stdout",
     "output_type": "stream",
     "text": [
      "secret message\n",
      "3\n",
      "sr sgeemsectea\n"
     ]
    }
   ],
   "source": [
    "##Encoding and Decoding prgm\n",
    "s=input()\n",
    "key=int(input())\n",
    "encode=\"\"\n",
    "for i in range (0,key):\n",
    "    encode+=s[i::key]\n",
    "print(encode)"
   ]
  },
  {
   "cell_type": "code",
   "execution_count": null,
   "metadata": {},
   "outputs": [],
   "source": []
  }
 ],
 "metadata": {
  "kernelspec": {
   "display_name": "Python 3",
   "language": "python",
   "name": "python3"
  },
  "language_info": {
   "codemirror_mode": {
    "name": "ipython",
    "version": 3
   },
   "file_extension": ".py",
   "mimetype": "text/x-python",
   "name": "python",
   "nbconvert_exporter": "python",
   "pygments_lexer": "ipython3",
   "version": "3.8.5"
  }
 },
 "nbformat": 4,
 "nbformat_minor": 4
}
